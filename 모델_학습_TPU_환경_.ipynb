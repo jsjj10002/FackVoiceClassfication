{
  "nbformat": 4,
  "nbformat_minor": 0,
  "metadata": {
    "colab": {
      "provenance": [],
      "gpuType": "V28",
      "authorship_tag": "ABX9TyMkvihrTbRm3Dwj5KV/jncQ",
      "include_colab_link": true
    },
    "kernelspec": {
      "name": "python3",
      "display_name": "Python 3"
    },
    "language_info": {
      "name": "python"
    },
    "accelerator": "TPU"
  },
  "cells": [
    {
      "cell_type": "markdown",
      "metadata": {
        "id": "view-in-github",
        "colab_type": "text"
      },
      "source": [
        "<a href=\"https://colab.research.google.com/github/jsjj10002/FackVoiceClassfication/blob/main/%EB%AA%A8%EB%8D%B8_%ED%95%99%EC%8A%B5_TPU_%ED%99%98%EA%B2%BD_.ipynb\" target=\"_parent\"><img src=\"https://colab.research.google.com/assets/colab-badge.svg\" alt=\"Open In Colab\"/></a>"
      ]
    },
    {
      "cell_type": "markdown",
      "source": [
        "# TPU 환경 구축"
      ],
      "metadata": {
        "id": "3tmVmil9mN-J"
      }
    },
    {
      "cell_type": "code",
      "source": [
        "import tensorflow as tf\n",
        "\n",
        "# TPUClusterResolver 초기화\n",
        "resolver = tf.distribute.cluster_resolver.TPUClusterResolver()  # TPU 이름 없이 호출\n",
        "tf.config.experimental_connect_to_cluster(resolver)\n",
        "tf.tpu.experimental.initialize_tpu_system(resolver)\n",
        "strategy = tf.distribute.experimental.TPUStrategy(resolver)\n"
      ],
      "metadata": {
        "colab": {
          "base_uri": "https://localhost:8080/"
        },
        "id": "GHN3N2-Li_8Z",
        "outputId": "2b218d24-90a5-4f34-cb87-152016ac6ff9"
      },
      "execution_count": null,
      "outputs": [
        {
          "output_type": "stream",
          "name": "stderr",
          "text": [
            "WARNING:absl:`tf.distribute.experimental.TPUStrategy` is deprecated, please use the non-experimental symbol `tf.distribute.TPUStrategy` instead.\n"
          ]
        }
      ]
    },
    {
      "cell_type": "markdown",
      "source": [
        "### 필요 라이브러리 호출"
      ],
      "metadata": {
        "id": "9pLXoDNJmwJm"
      }
    },
    {
      "cell_type": "code",
      "source": [
        "import pandas as pd\n",
        "import os\n",
        "import numpy as np\n",
        "from sklearn.preprocessing import StandardScaler, LabelEncoder\n",
        "from tensorflow.keras.models import Sequential\n",
        "from tensorflow.keras.layers import Dense\n",
        "from tensorflow.keras.utils import to_categorical\n",
        "from tensorflow.keras.optimizers import Adam\n",
        "from sklearn.model_selection import KFold\n",
        "from tensorflow.keras.layers import Dropout, Conv1D, MaxPooling1D, Bidirectional, LSTM, Flatten\n",
        "from tensorflow.keras.regularizers import l1_l2"
      ],
      "metadata": {
        "id": "i7iMqmeZiMjT"
      },
      "execution_count": null,
      "outputs": []
    },
    {
      "cell_type": "markdown",
      "source": [
        "# mfcc 특징 추출 데이터 불러오기"
      ],
      "metadata": {
        "id": "2XXXxqvomVnw"
      }
    },
    {
      "cell_type": "code",
      "source": [
        "!gdown https://drive.google.com/uc?id=1axGFU6vG3jr742bwVRUW2Y1f2uIILotX"
      ],
      "metadata": {
        "colab": {
          "base_uri": "https://localhost:8080/"
        },
        "id": "ldkaVrNFh2Jh",
        "outputId": "90c58ab0-490b-40ac-9800-f4318fc9ba27"
      },
      "execution_count": null,
      "outputs": [
        {
          "output_type": "stream",
          "name": "stdout",
          "text": [
            "Downloading...\n",
            "From: https://drive.google.com/uc?id=1axGFU6vG3jr742bwVRUW2Y1f2uIILotX\n",
            "To: /content/mfcc_df.pkl\n",
            "100% 16.1M/16.1M [00:00<00:00, 44.1MB/s]\n"
          ]
        }
      ]
    },
    {
      "cell_type": "markdown",
      "source": [
        "## 데이터 분할"
      ],
      "metadata": {
        "id": "WIfcl8HKnOTJ"
      }
    },
    {
      "cell_type": "code",
      "source": [
        "#데이터 불러오기\n",
        "mfcc_df = pd.read_pickle('/content/mfcc_df.pkl')\n",
        "\n",
        "train_df = mfcc_df[mfcc_df['category'] == 'training']\n",
        "val_df = mfcc_df[mfcc_df['category'] == 'validation']\n",
        "test_df = mfcc_df[mfcc_df['category'] == 'testing']\n",
        "\n",
        "print(\"Training Data Shape:\", train_df.shape)\n",
        "print(\"Validation Data Shape:\", val_df.shape)\n",
        "print(\"Testing Data Shape:\", test_df.shape)\n",
        "X_train = np.vstack(train_df['mfcc'].apply(lambda x: np.array(x)).values)\n",
        "Y_train = train_df['label'].values\n",
        "\n",
        "X_val = np.vstack(val_df['mfcc'].apply(lambda x: np.array(x)).values)\n",
        "Y_val = val_df['label'].values\n",
        "\n",
        "X_test = np.vstack(test_df['mfcc'].apply(lambda x: np.array(x)).values)\n",
        "Y_test = test_df['label'].values\n",
        "\n",
        "# StandardScaler를 사용하여 특징 데이터의 스케일을 조정합니다.\n",
        "scaler = StandardScaler()\n",
        "X_train = scaler.fit_transform(X_train)\n",
        "X_val = scaler.transform(X_val)\n",
        "X_test = scaler.transform(X_test)\n",
        "\n",
        "# 문자열 레이블을 숫자로 변환.\n",
        "encoder = LabelEncoder()\n",
        "Y_train = encoder.fit_transform(Y_train)\n",
        "Y_val = encoder.transform(Y_val)\n",
        "Y_test = encoder.transform(Y_test)\n",
        "\n",
        "# 분류 작업을 위해 레이블을 원-핫 인코딩 형식으로 변환.\n",
        "Y_train = to_categorical(Y_train)\n",
        "Y_val = to_categorical(Y_val)\n",
        "Y_test = to_categorical(Y_test)\n",
        "\n",
        "print(\"X_train shape:\", X_train.shape)\n",
        "print(\"Y_train shape:\", Y_train.shape)\n",
        "print(\"X_val shape:\", X_val.shape)\n",
        "print(\"Y_val shape:\", Y_val.shape)\n",
        "print(\"X_test shape:\", X_test.shape)\n",
        "print(\"Y_test shape:\", Y_test.shape)"
      ],
      "metadata": {
        "id": "wXuYtBoah93U"
      },
      "execution_count": null,
      "outputs": []
    },
    {
      "cell_type": "markdown",
      "source": [
        "# 모델 구축 - CNN, 양방향 LSTM, L1-L2 정규화 이용"
      ],
      "metadata": {
        "id": "3_vZm2IKkEbh"
      }
    },
    {
      "cell_type": "code",
      "source": [
        "def build_advanced_model(input_shape, output_units):\n",
        "  with strategy.scope():\n",
        "    model = Sequential([\n",
        "        # 첫 번째 합성곱 레이어와 풀링\n",
        "        Conv1D(64, kernel_size=5, activation='relu', padding='same', input_shape=input_shape, kernel_regularizer=l1_l2(l1=1e-5, l2=1e-4)),\n",
        "        MaxPooling1D(pool_size=2),\n",
        "        Dropout(0.3),\n",
        "        # 두 번째 합성곱 레이어와 풀링\n",
        "        Conv1D(128, kernel_size=5, activation='relu', padding='same', kernel_regularizer=l1_l2(l1=1e-5, l2=1e-4)),\n",
        "        MaxPooling1D(pool_size=2),\n",
        "        Dropout(0.3),\n",
        "        # 세 번째 합성곱 레이어와 풀링\n",
        "        Conv1D(256, kernel_size=5, activation='relu', padding='same', kernel_regularizer=l1_l2(l1=1e-5, l2=1e-4)),\n",
        "        MaxPooling1D(pool_size=2),\n",
        "        Dropout(0.3),\n",
        "        # 양방향 LSTM 레이어\n",
        "        Bidirectional(LSTM(128, return_sequences=True, kernel_regularizer=l1_l2(l1=1e-5, l2=1e-4))),\n",
        "        Dropout(0.3),\n",
        "        # 데이터 평탄화\n",
        "        Flatten(),\n",
        "        # 완전 연결 레이어\n",
        "        Dense(128, activation='relu', kernel_regularizer=l1_l2(l1=1e-5, l2=1e-4)),\n",
        "        Dropout(0.5),\n",
        "        # 출력 레이어\n",
        "        Dense(output_units, activation='softmax')\n",
        "    ])\n",
        "    # 컴파일\n",
        "    model.compile(optimizer=Adam(learning_rate=0.01), loss='categorical_crossentropy', metrics=['accuracy'])\n",
        "    return model"
      ],
      "metadata": {
        "id": "sUq5hHtij8lX"
      },
      "execution_count": null,
      "outputs": []
    },
    {
      "cell_type": "markdown",
      "source": [
        "##모델 학습 밎 검증- k-fold 교차검증"
      ],
      "metadata": {
        "id": "IDsTg1wokiyT"
      }
    },
    {
      "cell_type": "code",
      "source": [
        "# X와 Y 데이터 병합\n",
        "X = np.concatenate([X_train, X_val, X_test], axis=0)\n",
        "Y = np.concatenate([Y_train, Y_val, Y_test], axis=0)\n",
        "print(\"X shape:\", X.shape)\n",
        "print(\"Y shape:\", Y.shape)"
      ],
      "metadata": {
        "colab": {
          "base_uri": "https://localhost:8080/"
        },
        "id": "HIMJZr0jkgJr",
        "outputId": "b950f2aa-3174-4866-db21-5e0a4687f24b"
      },
      "execution_count": null,
      "outputs": [
        {
          "output_type": "stream",
          "name": "stdout",
          "text": [
            "X shape: (101692, 13)\n",
            "Y shape: (101692, 2)\n"
          ]
        }
      ]
    },
    {
      "cell_type": "code",
      "source": [
        "# k-Fold 교차 검증 설정\n",
        "n_splits = 5\n",
        "input_shape = (X.shape[1], 1) # 입력 차원 설정\n",
        "output_units = np.unique(Y).shape[0] # 출력 유닛 수는 유니크한 레이블 수\n",
        "\n",
        "kf = KFold(n_splits=n_splits, shuffle=True, random_state=42)\n",
        "fold_no = 1\n",
        "\n",
        "accuracies = []\n",
        "for train_index, test_index in kf.split(X):\n",
        "    X_train, X_test = X[train_index], X[test_index]\n",
        "    Y_train, Y_test = Y[train_index], Y[test_index]\n",
        "\n",
        "     # 데이터셋 최적화\n",
        "    train_data = tf.data.Dataset.from_tensor_slices((X_train, Y_train))\n",
        "    train_data = train_data.cache().shuffle(10000).batch(128).prefetch(tf.data.experimental.AUTOTUNE)\n",
        "    test_data = tf.data.Dataset.from_tensor_slices((X_test, Y_test))\n",
        "    test_data = test_data.batch(128).prefetch(tf.data.experimental.AUTOTUNE)\n",
        "\n",
        "    # 모델 생성 및 훈련\n",
        "    model = build_advanced_model(input_shape, output_units)\n",
        "    print(f'Training fold {fold_no}...')\n",
        "    model.fit(train_data, epochs=20, validation_data=test_data)\n",
        "\n",
        "    # 평가\n",
        "    _, accuracy = model.evaluate(X_test, Y_test, verbose=0)\n",
        "    accuracies.append(accuracy)\n",
        "    print(f'Score for fold {fold_no}: Accuracy of {accuracy*100:.2f}%')\n",
        "    fold_no += 1\n"
      ],
      "metadata": {
        "colab": {
          "base_uri": "https://localhost:8080/"
        },
        "id": "pMy-b6Avknbc",
        "outputId": "20694370-601d-4390-b872-c1c6481245a8"
      },
      "execution_count": null,
      "outputs": [
        {
          "output_type": "stream",
          "name": "stdout",
          "text": [
            "Training fold 1...\n",
            "Epoch 1/20\n",
            "636/636 [==============================] - 21s 22ms/step - loss: 0.4703 - accuracy: 0.8478 - val_loss: 0.2902 - val_accuracy: 0.9313\n",
            "Epoch 2/20\n",
            "636/636 [==============================] - 9s 14ms/step - loss: 0.3533 - accuracy: 0.9063 - val_loss: 0.2698 - val_accuracy: 0.9440\n",
            "Epoch 3/20\n",
            "636/636 [==============================] - 9s 14ms/step - loss: 0.3372 - accuracy: 0.9137 - val_loss: 0.2478 - val_accuracy: 0.9494\n",
            "Epoch 4/20\n",
            "636/636 [==============================] - 9s 14ms/step - loss: 0.3760 - accuracy: 0.9141 - val_loss: 0.2720 - val_accuracy: 0.9489\n",
            "Epoch 5/20\n",
            "636/636 [==============================] - 10s 16ms/step - loss: 0.3336 - accuracy: 0.9181 - val_loss: 0.2850 - val_accuracy: 0.9417\n",
            "Epoch 6/20\n",
            "636/636 [==============================] - 9s 14ms/step - loss: 0.3329 - accuracy: 0.9183 - val_loss: 0.2452 - val_accuracy: 0.9511\n",
            "Epoch 7/20\n",
            "636/636 [==============================] - 9s 14ms/step - loss: 0.3265 - accuracy: 0.9212 - val_loss: 0.2434 - val_accuracy: 0.9485\n",
            "Epoch 8/20\n",
            "636/636 [==============================] - 9s 14ms/step - loss: 0.3196 - accuracy: 0.9216 - val_loss: 0.2490 - val_accuracy: 0.9492\n",
            "Epoch 9/20\n",
            "636/636 [==============================] - 9s 14ms/step - loss: 0.3329 - accuracy: 0.9184 - val_loss: 0.2592 - val_accuracy: 0.9484\n",
            "Epoch 10/20\n",
            "636/636 [==============================] - 9s 14ms/step - loss: 0.3212 - accuracy: 0.9219 - val_loss: 0.2434 - val_accuracy: 0.9498\n",
            "Epoch 11/20\n",
            "636/636 [==============================] - 9s 14ms/step - loss: 0.3229 - accuracy: 0.9211 - val_loss: 0.2320 - val_accuracy: 0.9549\n",
            "Epoch 12/20\n",
            "636/636 [==============================] - 9s 14ms/step - loss: 0.3127 - accuracy: 0.9232 - val_loss: 0.2337 - val_accuracy: 0.9540\n",
            "Epoch 13/20\n",
            "636/636 [==============================] - 9s 14ms/step - loss: 0.3223 - accuracy: 0.9209 - val_loss: 0.2382 - val_accuracy: 0.9517\n",
            "Epoch 14/20\n",
            "636/636 [==============================] - 9s 14ms/step - loss: 0.3122 - accuracy: 0.9226 - val_loss: 0.2426 - val_accuracy: 0.9495\n",
            "Epoch 15/20\n",
            "636/636 [==============================] - 9s 14ms/step - loss: 0.3167 - accuracy: 0.9239 - val_loss: 0.2325 - val_accuracy: 0.9569\n",
            "Epoch 16/20\n",
            "636/636 [==============================] - 10s 15ms/step - loss: 0.3141 - accuracy: 0.9226 - val_loss: 0.2404 - val_accuracy: 0.9502\n",
            "Epoch 17/20\n",
            "636/636 [==============================] - 9s 14ms/step - loss: 0.3214 - accuracy: 0.9220 - val_loss: 0.2240 - val_accuracy: 0.9556\n",
            "Epoch 18/20\n",
            "636/636 [==============================] - 9s 14ms/step - loss: 0.3077 - accuracy: 0.9246 - val_loss: 0.2351 - val_accuracy: 0.9521\n",
            "Epoch 19/20\n",
            "636/636 [==============================] - 9s 14ms/step - loss: 0.3075 - accuracy: 0.9241 - val_loss: 0.2299 - val_accuracy: 0.9549\n",
            "Epoch 20/20\n",
            "636/636 [==============================] - 9s 14ms/step - loss: 0.3151 - accuracy: 0.9222 - val_loss: 0.2299 - val_accuracy: 0.9547\n",
            "Score for fold 1: Accuracy of 95.47%\n",
            "Training fold 2...\n",
            "Epoch 1/20\n",
            "636/636 [==============================] - 21s 22ms/step - loss: 0.5265 - accuracy: 0.8155 - val_loss: 0.2920 - val_accuracy: 0.9354\n",
            "Epoch 2/20\n",
            "636/636 [==============================] - 10s 15ms/step - loss: 0.3936 - accuracy: 0.9042 - val_loss: 0.2827 - val_accuracy: 0.9408\n",
            "Epoch 3/20\n",
            "636/636 [==============================] - 9s 15ms/step - loss: 0.3476 - accuracy: 0.9164 - val_loss: 0.2669 - val_accuracy: 0.9513\n",
            "Epoch 4/20\n",
            "636/636 [==============================] - 9s 15ms/step - loss: 0.3611 - accuracy: 0.9144 - val_loss: 0.2621 - val_accuracy: 0.9515\n",
            "Epoch 5/20\n",
            "636/636 [==============================] - 9s 15ms/step - loss: 0.3420 - accuracy: 0.9196 - val_loss: 0.2512 - val_accuracy: 0.9564\n",
            "Epoch 6/20\n",
            "636/636 [==============================] - 9s 14ms/step - loss: 0.3349 - accuracy: 0.9205 - val_loss: 0.2555 - val_accuracy: 0.9540\n",
            "Epoch 7/20\n",
            "636/636 [==============================] - 9s 14ms/step - loss: 0.3315 - accuracy: 0.9213 - val_loss: 0.2644 - val_accuracy: 0.9461\n",
            "Epoch 8/20\n",
            "636/636 [==============================] - 9s 14ms/step - loss: 0.3298 - accuracy: 0.9226 - val_loss: 0.2321 - val_accuracy: 0.9552\n",
            "Epoch 9/20\n",
            "636/636 [==============================] - 9s 14ms/step - loss: 0.3216 - accuracy: 0.9214 - val_loss: 0.2460 - val_accuracy: 0.9468\n",
            "Epoch 10/20\n",
            "636/636 [==============================] - 9s 14ms/step - loss: 0.3254 - accuracy: 0.9224 - val_loss: 0.2396 - val_accuracy: 0.9540\n",
            "Epoch 11/20\n",
            "636/636 [==============================] - 9s 14ms/step - loss: 0.3219 - accuracy: 0.9245 - val_loss: 0.2433 - val_accuracy: 0.9549\n",
            "Epoch 12/20\n",
            "636/636 [==============================] - 9s 14ms/step - loss: 0.3261 - accuracy: 0.9227 - val_loss: 0.2439 - val_accuracy: 0.9546\n",
            "Epoch 13/20\n",
            "636/636 [==============================] - 10s 16ms/step - loss: 0.3151 - accuracy: 0.9244 - val_loss: 0.2290 - val_accuracy: 0.9540\n",
            "Epoch 14/20\n",
            "636/636 [==============================] - 9s 14ms/step - loss: 0.3157 - accuracy: 0.9237 - val_loss: 0.2482 - val_accuracy: 0.9509\n",
            "Epoch 15/20\n",
            "636/636 [==============================] - 9s 14ms/step - loss: 0.3157 - accuracy: 0.9242 - val_loss: 0.2297 - val_accuracy: 0.9580\n",
            "Epoch 16/20\n",
            "636/636 [==============================] - 9s 14ms/step - loss: 0.3287 - accuracy: 0.9232 - val_loss: 0.2246 - val_accuracy: 0.9594\n",
            "Epoch 17/20\n",
            "636/636 [==============================] - 9s 14ms/step - loss: 0.3123 - accuracy: 0.9251 - val_loss: 0.2341 - val_accuracy: 0.9528\n",
            "Epoch 18/20\n",
            "636/636 [==============================] - 9s 15ms/step - loss: 0.3091 - accuracy: 0.9244 - val_loss: 0.2373 - val_accuracy: 0.9543\n",
            "Epoch 19/20\n",
            "636/636 [==============================] - 9s 15ms/step - loss: 0.3141 - accuracy: 0.9235 - val_loss: 0.2349 - val_accuracy: 0.9569\n",
            "Epoch 20/20\n",
            "636/636 [==============================] - 9s 14ms/step - loss: 0.3143 - accuracy: 0.9255 - val_loss: 0.2289 - val_accuracy: 0.9552\n",
            "Score for fold 2: Accuracy of 95.52%\n",
            "Training fold 3...\n",
            "Epoch 1/20\n",
            "636/636 [==============================] - 22s 21ms/step - loss: 0.4910 - accuracy: 0.8431 - val_loss: 0.3265 - val_accuracy: 0.9259\n",
            "Epoch 2/20\n",
            "636/636 [==============================] - 9s 14ms/step - loss: 0.3677 - accuracy: 0.9055 - val_loss: 0.2875 - val_accuracy: 0.9414\n",
            "Epoch 3/20\n",
            "636/636 [==============================] - 9s 14ms/step - loss: 0.3545 - accuracy: 0.9144 - val_loss: 0.2654 - val_accuracy: 0.9511\n",
            "Epoch 4/20\n",
            "636/636 [==============================] - 9s 14ms/step - loss: 0.3423 - accuracy: 0.9184 - val_loss: 0.2565 - val_accuracy: 0.9550\n",
            "Epoch 5/20\n",
            "636/636 [==============================] - 9s 14ms/step - loss: 0.3428 - accuracy: 0.9172 - val_loss: 0.2525 - val_accuracy: 0.9483\n",
            "Epoch 6/20\n",
            "636/636 [==============================] - 9s 14ms/step - loss: 0.3407 - accuracy: 0.9213 - val_loss: 0.2591 - val_accuracy: 0.9479\n",
            "Epoch 7/20\n",
            "636/636 [==============================] - 9s 14ms/step - loss: 0.3454 - accuracy: 0.9189 - val_loss: 0.2504 - val_accuracy: 0.9539\n",
            "Epoch 8/20\n",
            "636/636 [==============================] - 9s 14ms/step - loss: 0.3303 - accuracy: 0.9190 - val_loss: 0.2385 - val_accuracy: 0.9534\n",
            "Epoch 9/20\n",
            "636/636 [==============================] - 9s 14ms/step - loss: 0.3196 - accuracy: 0.9196 - val_loss: 0.2478 - val_accuracy: 0.9494\n",
            "Epoch 10/20\n",
            "636/636 [==============================] - 9s 14ms/step - loss: 0.3148 - accuracy: 0.9207 - val_loss: 0.2276 - val_accuracy: 0.9554\n",
            "Epoch 11/20\n",
            "636/636 [==============================] - 9s 14ms/step - loss: 0.3245 - accuracy: 0.9223 - val_loss: 0.2390 - val_accuracy: 0.9510\n",
            "Epoch 12/20\n",
            "636/636 [==============================] - 10s 15ms/step - loss: 0.3150 - accuracy: 0.9231 - val_loss: 0.2340 - val_accuracy: 0.9559\n",
            "Epoch 13/20\n",
            "636/636 [==============================] - 9s 14ms/step - loss: 0.3170 - accuracy: 0.9210 - val_loss: 0.2400 - val_accuracy: 0.9525\n",
            "Epoch 14/20\n",
            "636/636 [==============================] - 9s 14ms/step - loss: 0.3097 - accuracy: 0.9232 - val_loss: 0.2237 - val_accuracy: 0.9567\n",
            "Epoch 15/20\n",
            "636/636 [==============================] - 9s 14ms/step - loss: 0.3111 - accuracy: 0.9226 - val_loss: 0.2242 - val_accuracy: 0.9562\n",
            "Epoch 16/20\n",
            "636/636 [==============================] - 9s 14ms/step - loss: 0.3147 - accuracy: 0.9219 - val_loss: 0.2285 - val_accuracy: 0.9568\n",
            "Epoch 17/20\n",
            "636/636 [==============================] - 9s 14ms/step - loss: 0.3084 - accuracy: 0.9258 - val_loss: 0.2302 - val_accuracy: 0.9536\n",
            "Epoch 18/20\n",
            "636/636 [==============================] - 9s 14ms/step - loss: 0.3092 - accuracy: 0.9231 - val_loss: 0.2554 - val_accuracy: 0.9504\n",
            "Epoch 19/20\n",
            "636/636 [==============================] - 9s 14ms/step - loss: 0.3189 - accuracy: 0.9222 - val_loss: 0.2295 - val_accuracy: 0.9577\n",
            "Epoch 20/20\n",
            "636/636 [==============================] - 9s 14ms/step - loss: 0.3094 - accuracy: 0.9244 - val_loss: 0.2356 - val_accuracy: 0.9527\n",
            "Score for fold 3: Accuracy of 95.27%\n",
            "Training fold 4...\n",
            "Epoch 1/20\n",
            "636/636 [==============================] - 21s 22ms/step - loss: 0.4956 - accuracy: 0.8404 - val_loss: 0.3014 - val_accuracy: 0.9342\n",
            "Epoch 2/20\n",
            "636/636 [==============================] - 9s 14ms/step - loss: 0.3850 - accuracy: 0.9024 - val_loss: 0.2856 - val_accuracy: 0.9467\n",
            "Epoch 3/20\n",
            "636/636 [==============================] - 9s 14ms/step - loss: 0.3601 - accuracy: 0.9122 - val_loss: 0.2889 - val_accuracy: 0.9426\n",
            "Epoch 4/20\n",
            "636/636 [==============================] - 9s 14ms/step - loss: 0.3588 - accuracy: 0.9133 - val_loss: 0.2720 - val_accuracy: 0.9471\n",
            "Epoch 5/20\n",
            "636/636 [==============================] - 9s 14ms/step - loss: 0.3563 - accuracy: 0.9168 - val_loss: 0.2754 - val_accuracy: 0.9434\n",
            "Epoch 6/20\n",
            "636/636 [==============================] - 9s 14ms/step - loss: 0.3513 - accuracy: 0.9181 - val_loss: 0.2459 - val_accuracy: 0.9525\n",
            "Epoch 7/20\n",
            "636/636 [==============================] - 9s 14ms/step - loss: 0.3341 - accuracy: 0.9197 - val_loss: 0.2581 - val_accuracy: 0.9515\n",
            "Epoch 8/20\n",
            "636/636 [==============================] - 9s 14ms/step - loss: 0.3280 - accuracy: 0.9192 - val_loss: 0.2411 - val_accuracy: 0.9548\n",
            "Epoch 9/20\n",
            "636/636 [==============================] - 9s 14ms/step - loss: 0.3282 - accuracy: 0.9201 - val_loss: 0.2289 - val_accuracy: 0.9572\n",
            "Epoch 10/20\n",
            "636/636 [==============================] - 9s 14ms/step - loss: 0.3321 - accuracy: 0.9192 - val_loss: 0.2435 - val_accuracy: 0.9511\n",
            "Epoch 11/20\n",
            "636/636 [==============================] - 9s 14ms/step - loss: 0.3584 - accuracy: 0.9187 - val_loss: 0.2416 - val_accuracy: 0.9514\n",
            "Epoch 12/20\n",
            "636/636 [==============================] - 9s 14ms/step - loss: 0.3194 - accuracy: 0.9217 - val_loss: 0.2315 - val_accuracy: 0.9564\n",
            "Epoch 13/20\n",
            "636/636 [==============================] - 9s 14ms/step - loss: 0.3191 - accuracy: 0.9217 - val_loss: 0.2329 - val_accuracy: 0.9520\n",
            "Epoch 14/20\n",
            "636/636 [==============================] - 9s 14ms/step - loss: 0.3261 - accuracy: 0.9202 - val_loss: 0.2617 - val_accuracy: 0.9469\n",
            "Epoch 15/20\n",
            "636/636 [==============================] - 9s 14ms/step - loss: 0.3291 - accuracy: 0.9198 - val_loss: 0.2289 - val_accuracy: 0.9535\n",
            "Epoch 16/20\n",
            "636/636 [==============================] - 10s 16ms/step - loss: 0.3169 - accuracy: 0.9218 - val_loss: 0.2335 - val_accuracy: 0.9557\n",
            "Epoch 17/20\n",
            "636/636 [==============================] - 9s 14ms/step - loss: 0.3140 - accuracy: 0.9219 - val_loss: 0.2173 - val_accuracy: 0.9581\n",
            "Epoch 18/20\n",
            "636/636 [==============================] - 9s 14ms/step - loss: 0.3095 - accuracy: 0.9227 - val_loss: 0.2328 - val_accuracy: 0.9530\n",
            "Epoch 19/20\n",
            "636/636 [==============================] - 9s 14ms/step - loss: 0.3145 - accuracy: 0.9225 - val_loss: 0.2421 - val_accuracy: 0.9474\n",
            "Epoch 20/20\n",
            "636/636 [==============================] - 9s 14ms/step - loss: 0.3108 - accuracy: 0.9230 - val_loss: 0.2405 - val_accuracy: 0.9545\n",
            "Score for fold 4: Accuracy of 95.45%\n",
            "Training fold 5...\n",
            "Epoch 1/20\n",
            "636/636 [==============================] - 23s 24ms/step - loss: 0.5061 - accuracy: 0.8597 - val_loss: 0.3141 - val_accuracy: 0.9395\n",
            "Epoch 2/20\n",
            "636/636 [==============================] - 9s 14ms/step - loss: 0.3780 - accuracy: 0.9121 - val_loss: 0.2808 - val_accuracy: 0.9480\n",
            "Epoch 3/20\n",
            "636/636 [==============================] - 9s 14ms/step - loss: 0.3594 - accuracy: 0.9191 - val_loss: 0.2754 - val_accuracy: 0.9509\n",
            "Epoch 4/20\n",
            "636/636 [==============================] - 9s 14ms/step - loss: 0.3635 - accuracy: 0.9223 - val_loss: 0.2667 - val_accuracy: 0.9562\n",
            "Epoch 5/20\n",
            "636/636 [==============================] - 9s 14ms/step - loss: 0.3424 - accuracy: 0.9244 - val_loss: 0.2734 - val_accuracy: 0.9412\n",
            "Epoch 6/20\n",
            "636/636 [==============================] - 9s 14ms/step - loss: 0.3496 - accuracy: 0.9236 - val_loss: 0.2702 - val_accuracy: 0.9530\n",
            "Epoch 7/20\n",
            "636/636 [==============================] - 9s 15ms/step - loss: 0.3472 - accuracy: 0.9236 - val_loss: 0.2679 - val_accuracy: 0.9507\n",
            "Epoch 8/20\n",
            "636/636 [==============================] - 9s 14ms/step - loss: 0.3613 - accuracy: 0.9238 - val_loss: 0.2611 - val_accuracy: 0.9562\n",
            "Epoch 9/20\n",
            "636/636 [==============================] - 9s 14ms/step - loss: 0.3337 - accuracy: 0.9261 - val_loss: 0.2593 - val_accuracy: 0.9566\n",
            "Epoch 10/20\n",
            "636/636 [==============================] - 9s 14ms/step - loss: 0.3338 - accuracy: 0.9245 - val_loss: 0.2478 - val_accuracy: 0.9537\n",
            "Epoch 11/20\n",
            "636/636 [==============================] - 10s 15ms/step - loss: 0.3334 - accuracy: 0.9251 - val_loss: 0.2430 - val_accuracy: 0.9590\n",
            "Epoch 12/20\n",
            "636/636 [==============================] - 9s 14ms/step - loss: 0.3229 - accuracy: 0.9270 - val_loss: 0.2394 - val_accuracy: 0.9578\n",
            "Epoch 13/20\n",
            "636/636 [==============================] - 9s 14ms/step - loss: 0.3250 - accuracy: 0.9267 - val_loss: 0.2610 - val_accuracy: 0.9577\n",
            "Epoch 14/20\n",
            "636/636 [==============================] - 9s 14ms/step - loss: 0.3283 - accuracy: 0.9278 - val_loss: 0.2727 - val_accuracy: 0.9560\n",
            "Epoch 15/20\n",
            "636/636 [==============================] - 9s 14ms/step - loss: 0.3286 - accuracy: 0.9257 - val_loss: 0.2400 - val_accuracy: 0.9574\n",
            "Epoch 16/20\n",
            "636/636 [==============================] - 9s 14ms/step - loss: 0.3209 - accuracy: 0.9271 - val_loss: 0.2329 - val_accuracy: 0.9605\n",
            "Epoch 17/20\n",
            "636/636 [==============================] - 9s 14ms/step - loss: 0.3214 - accuracy: 0.9257 - val_loss: 0.2446 - val_accuracy: 0.9586\n",
            "Epoch 18/20\n",
            "636/636 [==============================] - 9s 14ms/step - loss: 0.3186 - accuracy: 0.9283 - val_loss: 0.2366 - val_accuracy: 0.9578\n",
            "Epoch 19/20\n",
            "636/636 [==============================] - 9s 14ms/step - loss: 0.3281 - accuracy: 0.9259 - val_loss: 0.2337 - val_accuracy: 0.9613\n",
            "Epoch 20/20\n",
            "636/636 [==============================] - 9s 15ms/step - loss: 0.3222 - accuracy: 0.9275 - val_loss: 0.2546 - val_accuracy: 0.9587\n",
            "Score for fold 5: Accuracy of 95.87%\n"
          ]
        }
      ]
    },
    {
      "cell_type": "markdown",
      "source": [
        "## 모델 평가"
      ],
      "metadata": {
        "id": "psgzuaz2n7GB"
      }
    },
    {
      "cell_type": "code",
      "source": [
        "# 최종 평가: 평균 정확도 및 표준 편차 계산\n",
        "average_accuracy = np.mean(accuracies)\n",
        "std_deviation = np.std(accuracies)\n",
        "print(f'Final Mean Accuracy: {average_accuracy*100:.2f}%')\n",
        "print(f'Standard Deviation of Accuracies: {std_deviation*100:.2f}%')\n",
        "# 모델 요약\n",
        "print(\"------[model_summary]------\")\n",
        "model.summary()"
      ],
      "metadata": {
        "colab": {
          "base_uri": "https://localhost:8080/"
        },
        "id": "xh3hWcFalTtu",
        "outputId": "f5d8abcc-4ee8-49f4-ce2c-3ea0950af85e"
      },
      "execution_count": null,
      "outputs": [
        {
          "output_type": "stream",
          "name": "stdout",
          "text": [
            "Final Mean Accuracy: 95.52%\n",
            "Standard Deviation of Accuracies: 0.20%\n",
            "------[model_summary]------\n",
            "Model: \"sequential_18\"\n",
            "_________________________________________________________________\n",
            " Layer (type)                Output Shape              Param #   \n",
            "=================================================================\n",
            " conv1d_54 (Conv1D)          (None, 13, 64)            384       \n",
            "                                                                 \n",
            " max_pooling1d_54 (MaxPooli  (None, 6, 64)             0         \n",
            " ng1D)                                                           \n",
            "                                                                 \n",
            " dropout_90 (Dropout)        (None, 6, 64)             0         \n",
            "                                                                 \n",
            " conv1d_55 (Conv1D)          (None, 6, 128)            41088     \n",
            "                                                                 \n",
            " max_pooling1d_55 (MaxPooli  (None, 3, 128)            0         \n",
            " ng1D)                                                           \n",
            "                                                                 \n",
            " dropout_91 (Dropout)        (None, 3, 128)            0         \n",
            "                                                                 \n",
            " conv1d_56 (Conv1D)          (None, 3, 256)            164096    \n",
            "                                                                 \n",
            " max_pooling1d_56 (MaxPooli  (None, 1, 256)            0         \n",
            " ng1D)                                                           \n",
            "                                                                 \n",
            " dropout_92 (Dropout)        (None, 1, 256)            0         \n",
            "                                                                 \n",
            " bidirectional_18 (Bidirect  (None, 1, 256)            394240    \n",
            " ional)                                                          \n",
            "                                                                 \n",
            " dropout_93 (Dropout)        (None, 1, 256)            0         \n",
            "                                                                 \n",
            " flatten_18 (Flatten)        (None, 256)               0         \n",
            "                                                                 \n",
            " dense_36 (Dense)            (None, 128)               32896     \n",
            "                                                                 \n",
            " dropout_94 (Dropout)        (None, 128)               0         \n",
            "                                                                 \n",
            " dense_37 (Dense)            (None, 2)                 258       \n",
            "                                                                 \n",
            "=================================================================\n",
            "Total params: 632962 (2.41 MB)\n",
            "Trainable params: 632962 (2.41 MB)\n",
            "Non-trainable params: 0 (0.00 Byte)\n",
            "_________________________________________________________________\n"
          ]
        }
      ]
    },
    {
      "cell_type": "code",
      "source": [],
      "metadata": {
        "id": "ryG7GZXp7_Fh"
      },
      "execution_count": null,
      "outputs": []
    },
    {
      "cell_type": "markdown",
      "source": [
        "## 모델 저장\n",
        "Fake or Real Classification model(FoRC)"
      ],
      "metadata": {
        "id": "1Ue5gAghlHv7"
      }
    },
    {
      "cell_type": "code",
      "source": [
        "from google.colab import files\n",
        "model.save('FoR_C_model.h5')  # 모델 저장\n",
        "files.download('FoR_C_model.h5')  # 이 파일을 로컬로 다운로드"
      ],
      "metadata": {
        "colab": {
          "base_uri": "https://localhost:8080/",
          "height": 73
        },
        "id": "JM465gUMlM4s",
        "outputId": "718eaa85-e099-4897-c0ed-0d135db9abb7"
      },
      "execution_count": null,
      "outputs": [
        {
          "output_type": "stream",
          "name": "stderr",
          "text": [
            "/usr/local/lib/python3.10/dist-packages/keras/src/engine/training.py:3103: UserWarning: You are saving your model as an HDF5 file via `model.save()`. This file format is considered legacy. We recommend using instead the native Keras format, e.g. `model.save('my_model.keras')`.\n",
            "  saving_api.save_model(\n"
          ]
        },
        {
          "output_type": "display_data",
          "data": {
            "text/plain": [
              "<IPython.core.display.Javascript object>"
            ],
            "application/javascript": [
              "\n",
              "    async function download(id, filename, size) {\n",
              "      if (!google.colab.kernel.accessAllowed) {\n",
              "        return;\n",
              "      }\n",
              "      const div = document.createElement('div');\n",
              "      const label = document.createElement('label');\n",
              "      label.textContent = `Downloading \"${filename}\": `;\n",
              "      div.appendChild(label);\n",
              "      const progress = document.createElement('progress');\n",
              "      progress.max = size;\n",
              "      div.appendChild(progress);\n",
              "      document.body.appendChild(div);\n",
              "\n",
              "      const buffers = [];\n",
              "      let downloaded = 0;\n",
              "\n",
              "      const channel = await google.colab.kernel.comms.open(id);\n",
              "      // Send a message to notify the kernel that we're ready.\n",
              "      channel.send({})\n",
              "\n",
              "      for await (const message of channel.messages) {\n",
              "        // Send a message to notify the kernel that we're ready.\n",
              "        channel.send({})\n",
              "        if (message.buffers) {\n",
              "          for (const buffer of message.buffers) {\n",
              "            buffers.push(buffer);\n",
              "            downloaded += buffer.byteLength;\n",
              "            progress.value = downloaded;\n",
              "          }\n",
              "        }\n",
              "      }\n",
              "      const blob = new Blob(buffers, {type: 'application/binary'});\n",
              "      const a = document.createElement('a');\n",
              "      a.href = window.URL.createObjectURL(blob);\n",
              "      a.download = filename;\n",
              "      div.appendChild(a);\n",
              "      a.click();\n",
              "      div.remove();\n",
              "    }\n",
              "  "
            ]
          },
          "metadata": {}
        },
        {
          "output_type": "display_data",
          "data": {
            "text/plain": [
              "<IPython.core.display.Javascript object>"
            ],
            "application/javascript": [
              "download(\"download_9647d407-cb10-485f-a745-5da49b94c60b\", \"FoR_C_model.h5\", 7676944)"
            ]
          },
          "metadata": {}
        }
      ]
    }
  ]
}